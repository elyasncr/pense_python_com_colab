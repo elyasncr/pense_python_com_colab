{
  "nbformat": 4,
  "nbformat_minor": 0,
  "metadata": {
    "colab": {
      "provenance": [],
      "authorship_tag": "ABX9TyMBdcs37F8lRHeTKRT8poAQ",
      "include_colab_link": true
    },
    "kernelspec": {
      "name": "python3",
      "display_name": "Python 3"
    },
    "language_info": {
      "name": "python"
    }
  },
  "cells": [
    {
      "cell_type": "markdown",
      "metadata": {
        "id": "view-in-github",
        "colab_type": "text"
      },
      "source": [
        "<a href=\"https://colab.research.google.com/github/elyasncr/pense_python_com_colab/blob/main/Pense_Python_capitulo_1.ipynb\" target=\"_parent\"><img src=\"https://colab.research.google.com/assets/colab-badge.svg\" alt=\"Open In Colab\"/></a>"
      ]
    },
    {
      "cell_type": "markdown",
      "source": [
        "#Capítulo 1 - A jornada do Programa.\n",
        "\n",
        "## O intuito desse estudo estudo é aprimorar as minhas habilidades com python, deixando o trabalho mais fluído e limpo. Caso haja algum erro nessas linhas iniciais, me perdoe pois estou iniciando agora.\n",
        "## Caso tenha algo para melhorar as minhas habilidades, avise-me. Estou aberto para críticas e elogios...."
      ],
      "metadata": {
        "id": "Qry5jX6XFaNN"
      }
    },
    {
      "cell_type": "code",
      "execution_count": 1,
      "metadata": {
        "colab": {
          "base_uri": "https://localhost:8080/"
        },
        "id": "_z951VqHFQ1W",
        "outputId": "22f9ac2b-83a6-44a7-e894-a2d9844847c6"
      },
      "outputs": [
        {
          "output_type": "stream",
          "name": "stdout",
          "text": [
            "Hello, World!\n"
          ]
        }
      ],
      "source": [
        "print(\"Hello, World!\")"
      ]
    },
    {
      "cell_type": "markdown",
      "source": [
        "### Os operadores +, - e * executam a adiçao, a subtraçao e a multiplicaçao, como nos seguintes exemplos:"
      ],
      "metadata": {
        "id": "BdYjQ06sGdxL"
      }
    },
    {
      "cell_type": "code",
      "source": [
        "print(40+2)\n"
      ],
      "metadata": {
        "colab": {
          "base_uri": "https://localhost:8080/"
        },
        "id": "ejdRI3Z9GW1w",
        "outputId": "d1413c1e-4413-43ef-f58f-103f027bdcd7"
      },
      "execution_count": 2,
      "outputs": [
        {
          "output_type": "stream",
          "name": "stdout",
          "text": [
            "42\n"
          ]
        }
      ]
    },
    {
      "cell_type": "code",
      "source": [
        "print(43-1)"
      ],
      "metadata": {
        "colab": {
          "base_uri": "https://localhost:8080/"
        },
        "id": "b_WvQ5iZGyJE",
        "outputId": "5cebddaa-98ed-4b5d-d764-71d1325efdb5"
      },
      "execution_count": 3,
      "outputs": [
        {
          "output_type": "stream",
          "name": "stdout",
          "text": [
            "42\n"
          ]
        }
      ]
    },
    {
      "cell_type": "code",
      "source": [
        "print(6*7.0)"
      ],
      "metadata": {
        "colab": {
          "base_uri": "https://localhost:8080/"
        },
        "id": "Y3q90OmdGzlh",
        "outputId": "6c6c14b9-b0e6-451d-b537-ad9f6cbfbefd"
      },
      "execution_count": 5,
      "outputs": [
        {
          "output_type": "stream",
          "name": "stdout",
          "text": [
            "42.0\n"
          ]
        }
      ]
    },
    {
      "cell_type": "markdown",
      "source": [
        "### O operador / executa a divisao:"
      ],
      "metadata": {
        "id": "wzu8rR0dHZh-"
      }
    },
    {
      "cell_type": "code",
      "source": [
        "print(84/2)"
      ],
      "metadata": {
        "colab": {
          "base_uri": "https://localhost:8080/"
        },
        "id": "rdqi9RUvHn7z",
        "outputId": "54b1823d-2650-44d8-8d8a-6e03e9e3154f"
      },
      "execution_count": 6,
      "outputs": [
        {
          "output_type": "stream",
          "name": "stdout",
          "text": [
            "42.0\n"
          ]
        }
      ]
    },
    {
      "cell_type": "markdown",
      "source": [
        "### Um valor é uma das coisas básivas com as quais um programa trabalha, como uma letra ou número. Alguns valos que vimos até agora foram 2, 42.0 e 'Hello, World!'.\n",
        "### Esses valores pertencem a tipos diferens: 2 é um número inteiro, 42.0 um número de ponto flutuante e 'hello, world!' é uma string, assim chamada porque as letras que contém sao uma sequencia em cadeia. Veja alguns exemplos.\n",
        "\n",
        "obs: para identificar o tipo de classe, use a formula type()."
      ],
      "metadata": {
        "id": "eJxK92PWHLZl"
      }
    },
    {
      "cell_type": "code",
      "source": [
        "type(2)"
      ],
      "metadata": {
        "colab": {
          "base_uri": "https://localhost:8080/"
        },
        "id": "R6hp5GSSG3h6",
        "outputId": "bad1978c-b296-408f-c020-6a91d819c35f"
      },
      "execution_count": 7,
      "outputs": [
        {
          "output_type": "execute_result",
          "data": {
            "text/plain": [
              "int"
            ]
          },
          "metadata": {},
          "execution_count": 7
        }
      ]
    },
    {
      "cell_type": "code",
      "source": [
        "type(42.0)"
      ],
      "metadata": {
        "colab": {
          "base_uri": "https://localhost:8080/"
        },
        "id": "22HrfHZ5IapR",
        "outputId": "2c139833-8ede-4e03-df84-c7897fbee510"
      },
      "execution_count": 8,
      "outputs": [
        {
          "output_type": "execute_result",
          "data": {
            "text/plain": [
              "float"
            ]
          },
          "metadata": {},
          "execution_count": 8
        }
      ]
    },
    {
      "cell_type": "code",
      "source": [
        "type('Hello, World!')"
      ],
      "metadata": {
        "colab": {
          "base_uri": "https://localhost:8080/"
        },
        "id": "6KjoyUo7Ic5d",
        "outputId": "3f35d13a-a868-439d-bed6-3a8a8d63b4ec"
      },
      "execution_count": 9,
      "outputs": [
        {
          "output_type": "execute_result",
          "data": {
            "text/plain": [
              "str"
            ]
          },
          "metadata": {},
          "execution_count": 9
        }
      ]
    },
    {
      "cell_type": "markdown",
      "source": [
        "##Exercício 1.1\n",
        "\n",
        "### É uma boa ideia ler este livro em frente a um computador para testar os exemplos durante a leitura.\n",
        "\n",
        "### Sempre que estiver testando um novo recurso, voce deve tentar fazer erros. Por exemplo, no programa 'Hello, World!', o que acontece se omitir uma das aspas? E se voce soletrar a instruçao print de forma errada?\n",
        "\n",
        "### Este tipo de experimento ajuda a lembra o que foi lido; também ajuda quando voce estiver programando, porque assim conhecerá o significado das mensagens de erro. É melhor fazer erros agora e de propósito que depois e acidentalmente.\n",
        "\n"
      ],
      "metadata": {
        "id": "gcbM7Ou3J95d"
      }
    },
    {
      "cell_type": "markdown",
      "source": [
        "### 1. Em uma instuçao print, o que acontece se você omitir uma dos parênteses ou ambos?"
      ],
      "metadata": {
        "id": "GUyVU2xrK4Yn"
      }
    },
    {
      "cell_type": "code",
      "source": [
        "print(\"a\""
      ],
      "metadata": {
        "colab": {
          "base_uri": "https://localhost:8080/",
          "height": 140
        },
        "id": "SG-7drzYIguF",
        "outputId": "5945569c-d247-4afa-97e6-ba6c6c2e9c3a"
      },
      "execution_count": 11,
      "outputs": [
        {
          "output_type": "error",
          "ename": "SyntaxError",
          "evalue": "ignored",
          "traceback": [
            "\u001b[0;36m  File \u001b[0;32m\"<ipython-input-11-5a7043d9355d>\"\u001b[0;36m, line \u001b[0;32m1\u001b[0m\n\u001b[0;31m    print(\"a\"\u001b[0m\n\u001b[0m             ^\u001b[0m\n\u001b[0;31mSyntaxError\u001b[0m\u001b[0;31m:\u001b[0m incomplete input\n"
          ]
        }
      ]
    },
    {
      "cell_type": "markdown",
      "source": [
        "### 2. Se estiver tentando imprimir uma string, o que acontede se omitir uma das aspas ou ambas?"
      ],
      "metadata": {
        "id": "YSC6HHvHNPxh"
      }
    },
    {
      "cell_type": "code",
      "source": [
        "print(draven)"
      ],
      "metadata": {
        "colab": {
          "base_uri": "https://localhost:8080/",
          "height": 174
        },
        "id": "-1YX1mnXMkZV",
        "outputId": "efa34574-48c8-4d2f-aeb5-9b4fb8459abb"
      },
      "execution_count": 12,
      "outputs": [
        {
          "output_type": "error",
          "ename": "NameError",
          "evalue": "ignored",
          "traceback": [
            "\u001b[0;31m---------------------------------------------------------------------------\u001b[0m",
            "\u001b[0;31mNameError\u001b[0m                                 Traceback (most recent call last)",
            "\u001b[0;32m<ipython-input-12-b78e12f2281d>\u001b[0m in \u001b[0;36m<cell line: 1>\u001b[0;34m()\u001b[0m\n\u001b[0;32m----> 1\u001b[0;31m \u001b[0mprint\u001b[0m\u001b[0;34m(\u001b[0m\u001b[0mdraven\u001b[0m\u001b[0;34m)\u001b[0m\u001b[0;34m\u001b[0m\u001b[0;34m\u001b[0m\u001b[0m\n\u001b[0m",
            "\u001b[0;31mNameError\u001b[0m: name 'draven' is not defined"
          ]
        }
      ]
    },
    {
      "cell_type": "markdown",
      "source": [
        "### 3. Você pode usar um sinal de menos para fazer um número negativo como -2. O que acontece se puser um sinal de mais antes de um número? e se escrever assim: 2++2?"
      ],
      "metadata": {
        "id": "QXHP2u23ON7G"
      }
    },
    {
      "cell_type": "code",
      "source": [
        "print(-2)"
      ],
      "metadata": {
        "colab": {
          "base_uri": "https://localhost:8080/"
        },
        "id": "DEkPqQwEOL6Q",
        "outputId": "5bb9a4ec-4ac4-4004-c39b-b7b29265ac53"
      },
      "execution_count": 13,
      "outputs": [
        {
          "output_type": "stream",
          "name": "stdout",
          "text": [
            "-2\n"
          ]
        }
      ]
    },
    {
      "cell_type": "code",
      "source": [
        "print(+2)"
      ],
      "metadata": {
        "colab": {
          "base_uri": "https://localhost:8080/"
        },
        "id": "s4OmalI8OiQS",
        "outputId": "280ec6cd-cf2f-4312-8f52-255380212c6f"
      },
      "execution_count": 14,
      "outputs": [
        {
          "output_type": "stream",
          "name": "stdout",
          "text": [
            "2\n"
          ]
        }
      ]
    },
    {
      "cell_type": "code",
      "source": [
        "print(2++2)"
      ],
      "metadata": {
        "colab": {
          "base_uri": "https://localhost:8080/"
        },
        "id": "ifj1ZXPFOnwA",
        "outputId": "9dc126c5-0c27-437e-de44-45acdb831f55"
      },
      "execution_count": 15,
      "outputs": [
        {
          "output_type": "stream",
          "name": "stdout",
          "text": [
            "4\n"
          ]
        }
      ]
    },
    {
      "cell_type": "markdown",
      "source": [
        "### 4. Na notação matemática, zeros à esqueda são aceitáveis, como em 02. O que acontece se você tentar usar isso no Python?"
      ],
      "metadata": {
        "id": "bahg036UOuOu"
      }
    },
    {
      "cell_type": "code",
      "source": [
        "print(02+3)"
      ],
      "metadata": {
        "colab": {
          "base_uri": "https://localhost:8080/",
          "height": 140
        },
        "id": "xUVrBoUpOqn3",
        "outputId": "fbe0fa5c-cf34-45af-9190-7af8308925dd"
      },
      "execution_count": 16,
      "outputs": [
        {
          "output_type": "error",
          "ename": "SyntaxError",
          "evalue": "ignored",
          "traceback": [
            "\u001b[0;36m  File \u001b[0;32m\"<ipython-input-16-b6a6482726aa>\"\u001b[0;36m, line \u001b[0;32m1\u001b[0m\n\u001b[0;31m    print(02+3)\u001b[0m\n\u001b[0m          ^\u001b[0m\n\u001b[0;31mSyntaxError\u001b[0m\u001b[0;31m:\u001b[0m leading zeros in decimal integer literals are not permitted; use an 0o prefix for octal integers\n"
          ]
        }
      ]
    },
    {
      "cell_type": "markdown",
      "source": [
        "### 5. O que acontece se você tiver dois valores sem nenhum operador entre eles?"
      ],
      "metadata": {
        "id": "-CGzGFXWO85h"
      }
    },
    {
      "cell_type": "code",
      "source": [
        "print(2 2)"
      ],
      "metadata": {
        "colab": {
          "base_uri": "https://localhost:8080/",
          "height": 140
        },
        "id": "Q__rYJsyO5HA",
        "outputId": "aa722807-c68d-4499-acc6-3d1c4eb62acd"
      },
      "execution_count": 17,
      "outputs": [
        {
          "output_type": "error",
          "ename": "SyntaxError",
          "evalue": "ignored",
          "traceback": [
            "\u001b[0;36m  File \u001b[0;32m\"<ipython-input-17-46340fd6162b>\"\u001b[0;36m, line \u001b[0;32m1\u001b[0m\n\u001b[0;31m    print(2 2)\u001b[0m\n\u001b[0m          ^\u001b[0m\n\u001b[0;31mSyntaxError\u001b[0m\u001b[0;31m:\u001b[0m invalid syntax. Perhaps you forgot a comma?\n"
          ]
        }
      ]
    },
    {
      "cell_type": "markdown",
      "source": [
        "## Exercício 1.2\n",
        "\n",
        "### Inicialize o interpretador do python e use-o como uma calculadora."
      ],
      "metadata": {
        "id": "RFhmO6B4O8Td"
      }
    },
    {
      "cell_type": "markdown",
      "source": [
        "### 1. Quantos segundos há em 42 minutos e 42 segundos?"
      ],
      "metadata": {
        "id": "4kB0yPYHPe8r"
      }
    },
    {
      "cell_type": "code",
      "source": [
        "minutos = 42\n",
        "segundos = 42\n",
        "\n",
        "qtd_segundos = (minutos * 60) + segundos\n",
        "\n",
        "print(f\"A quantidade de segundos em {minutos} minutos e {segundos} segundos é: {qtd_segundos} segundos. \")"
      ],
      "metadata": {
        "colab": {
          "base_uri": "https://localhost:8080/"
        },
        "id": "1J00KcxAPeSd",
        "outputId": "000097d1-acf4-4f15-d28e-fac67ef303fd"
      },
      "execution_count": 19,
      "outputs": [
        {
          "output_type": "stream",
          "name": "stdout",
          "text": [
            "A quantidade de segundos em 42 minutos e 42 segundos é: 2562 segundos. \n"
          ]
        }
      ]
    },
    {
      "cell_type": "markdown",
      "source": [
        "### 2. Quantas milhas há em 10 quilômetros? obs: uma milha equivale a 1,61 quilômetro."
      ],
      "metadata": {
        "id": "-N98LiitQNpa"
      }
    },
    {
      "cell_type": "code",
      "source": [
        "km = 10\n",
        "milha = 1.61\n",
        "\n",
        "qtd_milhas = km * milha\n",
        "\n",
        "print(f\"A quantidade de milhas em 10 {km} quilômetros é: {qtd_milhas} milhas\")"
      ],
      "metadata": {
        "colab": {
          "base_uri": "https://localhost:8080/"
        },
        "id": "ZcaRor8vQD9v",
        "outputId": "95efd9fb-e42f-49e9-f5c5-e75f403f0ae9"
      },
      "execution_count": 20,
      "outputs": [
        {
          "output_type": "stream",
          "name": "stdout",
          "text": [
            "A quantidade de milhas em 10 10 quilômetros é: 16.1 milhas\n"
          ]
        }
      ]
    },
    {
      "cell_type": "markdown",
      "source": [
        "### 3. Se você correr 10 quilômetros em 42 minutos e 42 segundos, qual é o seu passo médio (tempo por milha em minutos e segundos)? Qual é a sua velocidade média em milhas por hora?"
      ],
      "metadata": {
        "id": "LzS13Ua6Q2Mv"
      }
    },
    {
      "cell_type": "code",
      "source": [
        "km = 10\n",
        "tempo = 42.42\n",
        "tempo_em_segundos = (42*60) + 42\n",
        "tempo_minutos = 42\n",
        "tempo_hora = (tempo_em_segundos / 3600)\n",
        "milhas = km * 1.61\n",
        "\n",
        "passo_medio_minutos = milhas / tempo_minutos\n",
        "print(passo_medio_minutos)\n",
        "\n",
        "passo_medio_segundos = milhas / tempo_em_segundos\n",
        "print(passo_medio_segundos)\n",
        "\n",
        "velocidade_media_milhas_hora = milhas / tempo_hora\n",
        "print(velocidade_media_milhas_hora)"
      ],
      "metadata": {
        "colab": {
          "base_uri": "https://localhost:8080/"
        },
        "id": "Nboxksi4Qtpr",
        "outputId": "fb5493b5-a649-4ded-e8c9-ce6c37356721"
      },
      "execution_count": 25,
      "outputs": [
        {
          "output_type": "stream",
          "name": "stdout",
          "text": [
            "0.38333333333333336\n",
            "0.006284153005464481\n",
            "22.622950819672134\n"
          ]
        }
      ]
    },
    {
      "cell_type": "markdown",
      "source": [
        "## Considerações finais\n",
        "\n",
        "### Ao longo do módulo tive a oportunidade de aprender sobre entrada e saída de dados, classificação e tipo de dados e alguns operadores matemáticos. O capítulo foi bem escrito, bastante exemplo de como fazer e dos erros também. Vale a ressalva: alguns exemplos sobre entrada e saída de dados poderiam ser mais explicados, fora isso nota 9/10."
      ],
      "metadata": {
        "id": "UXbziEhdS8h1"
      }
    }
  ]
}