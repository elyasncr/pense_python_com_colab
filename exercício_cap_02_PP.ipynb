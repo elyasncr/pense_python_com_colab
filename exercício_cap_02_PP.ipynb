{
  "nbformat": 4,
  "nbformat_minor": 0,
  "metadata": {
    "colab": {
      "provenance": [],
      "authorship_tag": "ABX9TyNNgLZk1QRUDsLmXo4LgmyX",
      "include_colab_link": true
    },
    "kernelspec": {
      "name": "python3",
      "display_name": "Python 3"
    },
    "language_info": {
      "name": "python"
    }
  },
  "cells": [
    {
      "cell_type": "markdown",
      "metadata": {
        "id": "view-in-github",
        "colab_type": "text"
      },
      "source": [
        "<a href=\"https://colab.research.google.com/github/elyasncr/pense_python_com_colab/blob/main/exerc%C3%ADcio_cap_02_PP.ipynb\" target=\"_parent\"><img src=\"https://colab.research.google.com/assets/colab-badge.svg\" alt=\"Open In Colab\"/></a>"
      ]
    },
    {
      "cell_type": "markdown",
      "source": [
        "# Exercício 2.1\n",
        "\n",
        "## Repetindo o meu conselho do capítulo anterior, sempre que você aprender um recurso novo, você deve testá-lo no modo interativo e fazer erros de propósito  para ver o que acontece.\n",
        "\n",
        "### a) Vimos que n = 42 é legl. E 42 = n?\n",
        "### b) Em algumas linguagens, cada instrução termina em um ponto e vírgula;. O que acontece se você puser um ponto e vírgula no fim de um instrução em python?\n",
        "### c) E se puser um ponto no fim de uma instrução?\n",
        "### d) Em notação matemática é possível multiplicar  e y desta forma: xy. O que acontece se você tentar fazer o mesmo no python?"
      ],
      "metadata": {
        "id": "jB2sJtksq2yn"
      }
    },
    {
      "cell_type": "code",
      "execution_count": null,
      "metadata": {
        "colab": {
          "base_uri": "https://localhost:8080/",
          "height": 140
        },
        "id": "uqWZakmfno5Q",
        "outputId": "84ae4daf-68a8-4906-f76f-5bf0570a41d6"
      },
      "outputs": [
        {
          "output_type": "error",
          "ename": "SyntaxError",
          "evalue": "cannot assign to literal here. Maybe you meant '==' instead of '='? (<ipython-input-1-dc92b46d4207>, line 2)",
          "traceback": [
            "\u001b[0;36m  File \u001b[0;32m\"<ipython-input-1-dc92b46d4207>\"\u001b[0;36m, line \u001b[0;32m2\u001b[0m\n\u001b[0;31m    42 = n\u001b[0m\n\u001b[0m    ^\u001b[0m\n\u001b[0;31mSyntaxError\u001b[0m\u001b[0;31m:\u001b[0m cannot assign to literal here. Maybe you meant '==' instead of '='?\n"
          ]
        }
      ],
      "source": [
        "# a\n",
        "42 = n\n",
        "print(n)"
      ]
    },
    {
      "cell_type": "code",
      "source": [
        "# b\n",
        "car = 'audi';\n",
        "print(car)"
      ],
      "metadata": {
        "colab": {
          "base_uri": "https://localhost:8080/"
        },
        "id": "xbAhsIj92eBv",
        "outputId": "dbf2864c-3b10-440e-9f01-9ff472fbd398"
      },
      "execution_count": null,
      "outputs": [
        {
          "output_type": "stream",
          "name": "stdout",
          "text": [
            "audi\n"
          ]
        }
      ]
    },
    {
      "cell_type": "code",
      "source": [
        "# c\n",
        "car = 'bmw'.\n",
        "print(car)\n"
      ],
      "metadata": {
        "colab": {
          "base_uri": "https://localhost:8080/",
          "height": 140
        },
        "id": "3BTkN_hj2ny6",
        "outputId": "71defcb2-2e53-4e59-bd6c-e628a1787c85"
      },
      "execution_count": null,
      "outputs": [
        {
          "output_type": "error",
          "ename": "SyntaxError",
          "evalue": "invalid syntax (<ipython-input-4-fd2c15b9dc67>, line 2)",
          "traceback": [
            "\u001b[0;36m  File \u001b[0;32m\"<ipython-input-4-fd2c15b9dc67>\"\u001b[0;36m, line \u001b[0;32m2\u001b[0m\n\u001b[0;31m    car = 'bmw'.\u001b[0m\n\u001b[0m                ^\u001b[0m\n\u001b[0;31mSyntaxError\u001b[0m\u001b[0;31m:\u001b[0m invalid syntax\n"
          ]
        }
      ]
    },
    {
      "cell_type": "code",
      "source": [
        "# d\n",
        "x = 2\n",
        "y = 4\n",
        "\n",
        "print(xy)"
      ],
      "metadata": {
        "colab": {
          "base_uri": "https://localhost:8080/",
          "height": 208
        },
        "id": "ajcSnB5u2z1S",
        "outputId": "ac2c796b-4879-4b38-b05c-2b1fde83beb8"
      },
      "execution_count": null,
      "outputs": [
        {
          "output_type": "error",
          "ename": "NameError",
          "evalue": "name 'xy' is not defined",
          "traceback": [
            "\u001b[0;31m---------------------------------------------------------------------------\u001b[0m",
            "\u001b[0;31mNameError\u001b[0m                                 Traceback (most recent call last)",
            "\u001b[0;32m<ipython-input-5-3ecf470b9db3>\u001b[0m in \u001b[0;36m<cell line: 5>\u001b[0;34m()\u001b[0m\n\u001b[1;32m      3\u001b[0m \u001b[0my\u001b[0m \u001b[0;34m=\u001b[0m \u001b[0;36m4\u001b[0m\u001b[0;34m\u001b[0m\u001b[0;34m\u001b[0m\u001b[0m\n\u001b[1;32m      4\u001b[0m \u001b[0;34m\u001b[0m\u001b[0m\n\u001b[0;32m----> 5\u001b[0;31m \u001b[0mprint\u001b[0m\u001b[0;34m(\u001b[0m\u001b[0mxy\u001b[0m\u001b[0;34m)\u001b[0m\u001b[0;34m\u001b[0m\u001b[0;34m\u001b[0m\u001b[0m\n\u001b[0m",
            "\u001b[0;31mNameError\u001b[0m: name 'xy' is not defined"
          ]
        }
      ]
    },
    {
      "cell_type": "markdown",
      "source": [
        "# Exercício 2.2\n",
        "\n",
        "## Pratique o uso do interpretador do python como uma calculadora:\n",
        "\n",
        "### a) O volume de uma esfera com raio r é 4/3 pi r³. Qual é o volume de uma esfera de raio 5?\n",
        "\n",
        "### b) Suponha que o preço de capa de um livro seja  24,95, mas as livraria recebem  um  desconto  de 40%. O transporte custa 3,00 para o  primeiro exemplar e 0,75 centavos para cada exemplar adicional. Qual é o custo total de atacado para 60 cópias?\n",
        "\n",
        "### c) Se eu sair da minha casa às 6:52 e correr 1km a um certo passo (8min15s por km), então 3 km a um passo mais rápido (7min12s por km) e 1 km no mesmo passo usado em primeiro lugar, que horas chego em casa para o café da manhã?"
      ],
      "metadata": {
        "id": "_8dVWWqNvpyp"
      }
    },
    {
      "cell_type": "code",
      "source": [
        "# a\n",
        "pi = 3.14\n",
        "r = int(input(\"Insira o valor do raio: \"))\n",
        "volume = (4*pi*(r**3))/3\n",
        "\n",
        "print(f\"O volume da esfera de raio {r} foi de {volume} m³ \")"
      ],
      "metadata": {
        "colab": {
          "base_uri": "https://localhost:8080/"
        },
        "id": "BDhPa3_mzpvL",
        "outputId": "4f0e90b5-6c38-44b7-bea7-3ec3904c75a2"
      },
      "execution_count": null,
      "outputs": [
        {
          "output_type": "stream",
          "name": "stdout",
          "text": [
            "Insira o valor do raio: 5\n",
            "O volume da esfera de raio 5 foi de 523.3333333333334 m³ \n"
          ]
        }
      ]
    },
    {
      "cell_type": "code",
      "source": [
        "# b (solução 1)\n",
        "transporte = 3.00\n",
        "capa = 24.95\n",
        "desc = 0.4\n",
        "atacado = 0.75\n",
        "\n",
        "capa_com_desconto = capa * desc\n",
        "\n",
        "total = ((capa_com_desconto * 60) + transporte) + (atacado * 59)\n",
        "\n",
        "print( f'O custo total da fabricação de 60 livors foi de: {total}')\n"
      ],
      "metadata": {
        "id": "4ItNT52n3dZX",
        "colab": {
          "base_uri": "https://localhost:8080/"
        },
        "outputId": "c55798c2-953e-442a-b52d-fb934e4e88c8"
      },
      "execution_count": 2,
      "outputs": [
        {
          "output_type": "stream",
          "name": "stdout",
          "text": [
            "O custo total da fabricação de 60 livors foi de: 646.0500000000001\n"
          ]
        }
      ]
    },
    {
      "cell_type": "code",
      "source": [
        "# c  v=ds/dt --> dt = ds/v\n",
        "\n",
        "hora_saida = 6.52\n",
        "# distância em metros\n",
        "d1 = 1000\n",
        "# veloc em metros/segundos\n",
        "v1 = 0.495\n",
        "t1 = d1/v1\n",
        "\n",
        "d2 = 3000\n",
        "v2 = 0.432\n",
        "t2 = d2/v2\n",
        "\n",
        "\n",
        "\n",
        "d3 = 1000\n",
        "v3 = 0.495\n",
        "t3 = d3/v3\n",
        "\n",
        "\n",
        "d_total = d1 + d2 + d3\n",
        "t_total = t1 + t2 + t3\n",
        "v_total = v1 + v2 + v3\n",
        "\n",
        "t_final = d_total/v_total\n",
        "\n",
        "minutos = t_final / 60\n",
        "\n",
        "hora_chegada = 8.01\n",
        "\n",
        "print(f'a hora de chegada foi {hora_chegada}')"
      ],
      "metadata": {
        "colab": {
          "base_uri": "https://localhost:8080/"
        },
        "id": "cIed_YWseIXq",
        "outputId": "39552a55-daea-4537-dfc2-69cfc69ae649"
      },
      "execution_count": 8,
      "outputs": [
        {
          "output_type": "stream",
          "name": "stdout",
          "text": [
            "a hora de chegada foi 8.01\n"
          ]
        }
      ]
    },
    {
      "cell_type": "code",
      "source": [
        "# c (solução do chat gpt) peguei para tirar dúvida e ter outra alternativa para a questão\n",
        "\n",
        "from datetime import datetime, timedelta\n",
        "\n",
        "def calcular_tempo_corrida(distancia, passo_lento, passo_rapido):\n",
        "    tempo_corrida = (distancia[0] * passo_lento) + (distancia[1] * passo_rapido) + (distancia[2] * passo_lento)\n",
        "    return timedelta(minutes=tempo_corrida)\n",
        "\n",
        "def calcular_horario_chegada(hora_partida, tempo_corrida):\n",
        "    horario_chegada = hora_partida + tempo_corrida\n",
        "    return horario_chegada.time()\n",
        "\n",
        "def main():\n",
        "    hora_partida = datetime.strptime(\"06:52\", \"%H:%M\")\n",
        "    distancia = [1, 3, 1]  # Distância em quilômetros para cada trecho\n",
        "    passo_lento = 8 + 15/60  # Passo lento em minutos por quilômetro\n",
        "    passo_rapido = 7 + 12/60  # Passo rápido em minutos por quilômetro\n",
        "\n",
        "    tempo_corrida = calcular_tempo_corrida(distancia, passo_lento, passo_rapido)\n",
        "    horario_chegada = calcular_horario_chegada(hora_partida, tempo_corrida)\n",
        "\n",
        "    print(f\"Você chegará em casa às {horario_chegada} para o café da manhã.\")\n",
        "\n",
        "if __name__ == \"__main__\":\n",
        "    main()\n"
      ],
      "metadata": {
        "colab": {
          "base_uri": "https://localhost:8080/"
        },
        "id": "ONGWIgxm3luQ",
        "outputId": "31763701-a839-40b2-cd33-02e6d79f8eac"
      },
      "execution_count": 9,
      "outputs": [
        {
          "output_type": "stream",
          "name": "stdout",
          "text": [
            "Você chegará em casa às 07:30:06 para o café da manhã.\n"
          ]
        }
      ]
    },
    {
      "cell_type": "code",
      "source": [],
      "metadata": {
        "id": "KLKZiVvY5OVO"
      },
      "execution_count": null,
      "outputs": []
    }
  ]
}